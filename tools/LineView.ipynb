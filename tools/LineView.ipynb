{
 "cells": [
  {
   "cell_type": "code",
   "execution_count": 23,
   "metadata": {},
   "outputs": [],
   "source": [
    "import numpy as np # linear algebra\n",
    "import pandas as pd # data processing, CSV file I/O (e.g. pd.read_csv)\n",
    "import warnings\n",
    "import gc\n",
    "import matplotlib.pyplot as plt\n",
    "import seaborn as sns\n",
    "import cv2"
   ]
  },
  {
   "cell_type": "code",
   "execution_count": 72,
   "metadata": {},
   "outputs": [],
   "source": [
    "## LINE VIEW\n",
    "import matplotlib as mpl\n",
    "mpl.rcParams['figure.dpi'] = 200\n",
    "from ipywidgets import interact\n",
    "import sys\n",
    "Imgs_For_Line_View = [] #global変数\n",
    "\n",
    "##################################\n",
    "#  独自ライブライー： LINE VIEW\n",
    "# (複数の画像のグラフによる見比べ)\n",
    "##################################\n",
    "\n",
    "## 使うときは、これを呼ぶ。(双方向バー表示のため、実態をラップ)\n",
    "def lv( img1, img2=None, img3=None, img4=None, img5=None ):\n",
    "    global Imgs_For_Line_View    \n",
    "    Imgs_For_Line_View =  list(filter( lambda x: x is not None, [img1, img2, img3, img4, img5] ) )\n",
    "#     if sys.argv[0] is not None:\n",
    "#         Imgs_For_Line_View.extend(*args)   うまく行かず、、\n",
    "    interact( lv_real, y = (0, 100, 1) , fig_size=(0,10,1) )\n",
    "\n",
    "## lvの実態\n",
    "def lv_real( y=0, fig_size=6 ):\n",
    "    # 図を作成\n",
    "    plt.figure(figsize=(fig_size,fig_size))\n",
    "    plt.xticks(fontsize=4)\n",
    "    plt.yticks(fontsize=4)\n",
    "\n",
    "    \n",
    "    for idx, tmp_img in enumerate( Imgs_For_Line_View):\n",
    "        tmp_pixel_list=[]\n",
    "        if  tmp_img.shape[2] >1 : # RGBの３色残ってるときは、白黒に。\n",
    "            tmp_img = cv2.cvtColor(img, cv2.COLOR_BGR2GRAY)\n",
    "        \n",
    "        h0 = Imgs_For_Line_View[idx].shape[0] # 画像の高さ\n",
    "        w0 = Imgs_For_Line_View[idx].shape[1] # 画像の横幅\n",
    "        \n",
    "        # 作図用にピクセルを参照\n",
    "        for x in range(w0):\n",
    "            pix = tmp_img[y, x]\n",
    "            tmp_pixel_list.append(pix)\n",
    "        plt.plot( tmp_pixel_list, label=idx, linewidth = 0.3 )\n",
    "\n",
    "\n",
    "    plt.legend()\n",
    "    plt.show()\n",
    "    \n",
    "## 独自ライブライー、LINE VIEW\n",
    "########################"
   ]
  },
  {
   "cell_type": "code",
   "execution_count": 73,
   "metadata": {},
   "outputs": [
    {
     "data": {
      "application/vnd.jupyter.widget-view+json": {
       "model_id": "49d1b1af59f442bb83123105ceb80074",
       "version_major": 2,
       "version_minor": 0
      },
      "text/plain": [
       "interactive(children=(IntSlider(value=0, description='y'), IntSlider(value=6, description='fig_size', max=10),…"
      ]
     },
     "metadata": {},
     "output_type": "display_data"
    }
   ],
   "source": [
    "img = cv2.imread(\"./images/input.jpg\")\n",
    "lv(img, img)"
   ]
  },
  {
   "cell_type": "code",
   "execution_count": 50,
   "metadata": {},
   "outputs": [],
   "source": [
    "# def lv2 ():\n",
    "#     plt.figure(figsize=(fig_size,fig_size))\n",
    "#     plt.plot(pixel_List, label=\"gaussian\", color=\"red\")\n",
    "#     plt.legend()\n",
    "#     plt.show()"
   ]
  },
  {
   "cell_type": "code",
   "execution_count": null,
   "metadata": {},
   "outputs": [],
   "source": []
  }
 ],
 "metadata": {
  "kernelspec": {
   "display_name": "Python 3",
   "language": "python",
   "name": "python3"
  },
  "language_info": {
   "codemirror_mode": {
    "name": "ipython",
    "version": 3
   },
   "file_extension": ".py",
   "mimetype": "text/x-python",
   "name": "python",
   "nbconvert_exporter": "python",
   "pygments_lexer": "ipython3",
   "version": "3.7.6"
  }
 },
 "nbformat": 4,
 "nbformat_minor": 4
}
