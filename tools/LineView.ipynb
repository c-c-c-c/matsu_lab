{
 "cells": [
  {
   "cell_type": "code",
   "execution_count": 1,
   "metadata": {},
   "outputs": [],
   "source": [
    "##################################\n",
    "#  独自ライブライー： LINE VIEW\n",
    "# (複数の画像のグラフによる見比べ)\n",
    "##################################\n",
    "import cv2;import matplotlib.pyplot as plt;import matplotlib as mpl;from ipywidgets import interact\n",
    "plt.style.use('dark_background')\n",
    "mpl.rcParams['figure.dpi'] = 140 # グラフで詳細まで見えるように\n",
    "Imgs_For_Line_View = [] #global変数\n",
    "Defalut_Y = 20 #global変数\n",
    "\n",
    "## 使うときは、これを呼ぶ。(双方向バー表示のため、実態をラップ)\n",
    "def lv( img1, img2=None, img3=None, img4=None, img5=None ):\n",
    "    global Imgs_For_Line_View\n",
    "    global Defalut_Y\n",
    "    Imgs_For_Line_View =  list(filter( lambda x: x is not None, [img1, img2, img3, img4, img5] ) )# Noneを削除\n",
    "    Defalut_Y = Imgs_For_Line_View[0].shape[0] // 2 # Yの初期値。現状うまく動かず\n",
    "    interact( lv_real, y = (0, Defalut_Y*2-1, 1) , fig_width=(0,5,0.05), fig_height=(0,5,0.05) ) # 双方向呼び出し\n",
    "\n",
    "## lvの実体\n",
    "def lv_real( fig_width=1, fig_height=1, y=Defalut_Y,  ):\n",
    "    # 図を作成\n",
    "    plt.figure(figsize=(4 * fig_width,4 * fig_height));plt.xticks(fontsize=4);plt.yticks(fontsize=4)\n",
    "    # 画像ごとにグラフ線をplot\n",
    "    for idx, tmp_img in enumerate( Imgs_For_Line_View):\n",
    "        if  len(tmp_img.shape) >2 and tmp_img.shape[2] >1 : # RGBの３色残ってるときは、白黒に。\n",
    "            tmp_img = cv2.cvtColor(img, cv2.COLOR_BGR2GRAY)\n",
    "        \n",
    "        h0, w0 = Imgs_For_Line_View[idx].shape[0], Imgs_For_Line_View[idx].shape[1] # 画像の高さ幅\n",
    "\n",
    "        # 作図用にピクセルを参照\n",
    "        tmp_pixel_list=[]\n",
    "        for x in range(w0):\n",
    "            pix = tmp_img[y, x]\n",
    "            tmp_pixel_list.append(pix)\n",
    "        plt.plot( tmp_pixel_list, label=idx, linewidth = 0.5 )\n",
    "\n",
    "    plt.legend()\n",
    "    plt.show()"
   ]
  },
  {
   "cell_type": "code",
   "execution_count": 2,
   "metadata": {},
   "outputs": [
    {
     "data": {
      "application/vnd.jupyter.widget-view+json": {
       "model_id": "a5f4d0c0f18b453080d1ea621b94a302",
       "version_major": 2,
       "version_minor": 0
      },
      "text/plain": [
       "interactive(children=(FloatSlider(value=1.0, description='fig_width', max=5.0, step=0.05), FloatSlider(value=1…"
      ]
     },
     "metadata": {},
     "output_type": "display_data"
    }
   ],
   "source": [
    "##使い方のサンプル\n",
    "img = cv2.imread(\"./images/input.jpg\")\n",
    "gray = cv2.cvtColor(img, cv2.COLOR_RGB2GRAY)\n",
    "canny = cv2.Canny(gray, 100,200)\n",
    "gaus = cv2.GaussianBlur(gray, (81, 81), 1)\n",
    "\n",
    "lv(gray,gaus, canny) # canny化の前後をlv表示。yスライダーで任意のy(画像上部からのpixel数)\n",
    "\n"
   ]
  },
  {
   "cell_type": "code",
   "execution_count": null,
   "metadata": {},
   "outputs": [],
   "source": []
  },
  {
   "cell_type": "code",
   "execution_count": null,
   "metadata": {},
   "outputs": [],
   "source": []
  },
  {
   "cell_type": "code",
   "execution_count": null,
   "metadata": {},
   "outputs": [],
   "source": []
  }
 ],
 "metadata": {
  "kernelspec": {
   "display_name": "Python 3",
   "language": "python",
   "name": "python3"
  },
  "language_info": {
   "codemirror_mode": {
    "name": "ipython",
    "version": 3
   },
   "file_extension": ".py",
   "mimetype": "text/x-python",
   "name": "python",
   "nbconvert_exporter": "python",
   "pygments_lexer": "ipython3",
   "version": "3.7.6"
  },
  "varInspector": {
   "cols": {
    "lenName": 16,
    "lenType": 16,
    "lenVar": 40
   },
   "kernels_config": {
    "python": {
     "delete_cmd_postfix": "",
     "delete_cmd_prefix": "del ",
     "library": "var_list.py",
     "varRefreshCmd": "print(var_dic_list())"
    },
    "r": {
     "delete_cmd_postfix": ") ",
     "delete_cmd_prefix": "rm(",
     "library": "var_list.r",
     "varRefreshCmd": "cat(var_dic_list()) "
    }
   },
   "types_to_exclude": [
    "module",
    "function",
    "builtin_function_or_method",
    "instance",
    "_Feature"
   ],
   "window_display": false
  }
 },
 "nbformat": 4,
 "nbformat_minor": 4
}
