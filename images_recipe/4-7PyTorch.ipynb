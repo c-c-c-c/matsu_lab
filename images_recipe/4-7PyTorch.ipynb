{
 "cells": [
  {
   "cell_type": "code",
   "execution_count": 1,
   "metadata": {
    "code_folding": []
   },
   "outputs": [
    {
     "name": "stdout",
     "output_type": "stream",
     "text": [
      "Requirement already satisfied: torch in /opt/conda/lib/python3.7/site-packages (1.4.0)\n",
      "Requirement already satisfied: torchvision in /opt/conda/lib/python3.7/site-packages (0.5.0)\n",
      "Requirement already satisfied: numpy in /opt/conda/lib/python3.7/site-packages (from torchvision) (1.18.1)\n",
      "Requirement already satisfied: six in /opt/conda/lib/python3.7/site-packages (from torchvision) (1.14.0)\n",
      "Requirement already satisfied: pillow>=4.1.1 in /opt/conda/lib/python3.7/site-packages (from torchvision) (5.4.1)\n",
      "\u001b[33mWARNING: You are using pip version 20.1; however, version 20.2.1 is available.\n",
      "You should consider upgrading via the '/opt/conda/bin/python3.7 -m pip install --upgrade pip' command.\u001b[0m\n"
     ]
    }
   ],
   "source": [
    "# !pip install torch torchvision"
   ]
  },
  {
   "cell_type": "code",
   "execution_count": 2,
   "metadata": {
    "code_folding": [
     0
    ]
   },
   "outputs": [
    {
     "name": "stdout",
     "output_type": "stream",
     "text": [
      "Pixiedust database opened successfully\n"
     ]
    },
    {
     "data": {
      "text/html": [
       "\n",
       "        <div style=\"margin:10px\">\n",
       "            <a href=\"https://github.com/ibm-watson-data-lab/pixiedust\" target=\"_new\">\n",
       "                <img src=\"https://github.com/ibm-watson-data-lab/pixiedust/raw/master/docs/_static/pd_icon32.png\" style=\"float:left;margin-right:10px\"/>\n",
       "            </a>\n",
       "            <span>Pixiedust version 1.1.18</span>\n",
       "        </div>\n",
       "        "
      ],
      "text/plain": [
       "<IPython.core.display.HTML object>"
      ]
     },
     "metadata": {},
     "output_type": "display_data"
    }
   ],
   "source": [
    "#import\n",
    "import numpy as np # linear algebra\n",
    "import pandas as pd # data processing, CSV file I/O (e.g. pd.read_csv)\n",
    "# Suppress warnings \n",
    "import warnings\n",
    "warnings.filterwarnings('ignore')\n",
    "import gc\n",
    "import os\n",
    "import shutil\n",
    "\n",
    "\n",
    "# matplotlib and seaborn for plotting\n",
    "import matplotlib.pyplot as plt\n",
    "%matplotlib inline\n",
    "import seaborn as sns\n",
    "\n",
    "# 追記\n",
    "import json\n",
    "import datetime\n",
    "import math\n",
    "plt.style.use('dark_background')\n",
    "\n",
    "# debug\n",
    "#%pdb on\n",
    "\n",
    "import pixiedust #%pixie_debugger\n",
    "\n",
    "# tfがエラーはかないため\n",
    "import tensorflow as tf\n",
    "physical_devices = tf.config.experimental.list_physical_devices('GPU')\n",
    "tf.config.experimental.set_memory_growth(physical_devices[0], True)\n"
   ]
  },
  {
   "cell_type": "code",
   "execution_count": 7,
   "metadata": {
    "code_folding": []
   },
   "outputs": [],
   "source": [
    "import matplotlib.pyplot as plt\n",
    "\n",
    "import torchvision.transforms as transforms\n",
    "from torch.utils.data import DataLoader\n",
    "from torchvision.datasets import MNIST\n",
    "\n"
   ]
  },
  {
   "cell_type": "code",
   "execution_count": 8,
   "metadata": {},
   "outputs": [
    {
     "name": "stdout",
     "output_type": "stream",
     "text": [
      "Downloading http://yann.lecun.com/exdb/mnist/train-images-idx3-ubyte.gz to /root/data/MNIST/raw/train-images-idx3-ubyte.gz\n"
     ]
    },
    {
     "data": {
      "application/vnd.jupyter.widget-view+json": {
       "model_id": "c58d1e333f8d4ecc971b3d3bde9cc9eb",
       "version_major": 2,
       "version_minor": 0
      },
      "text/plain": [
       "HBox(children=(FloatProgress(value=1.0, bar_style='info', max=1.0), HTML(value='')))"
      ]
     },
     "metadata": {},
     "output_type": "display_data"
    },
    {
     "name": "stdout",
     "output_type": "stream",
     "text": [
      "Extracting /root/data/MNIST/raw/train-images-idx3-ubyte.gz to /root/data/MNIST/raw\n",
      "Downloading http://yann.lecun.com/exdb/mnist/train-labels-idx1-ubyte.gz to /root/data/MNIST/raw/train-labels-idx1-ubyte.gz\n",
      "\n"
     ]
    },
    {
     "data": {
      "application/vnd.jupyter.widget-view+json": {
       "model_id": "13523e21863349c6b79e1a65603dbfac",
       "version_major": 2,
       "version_minor": 0
      },
      "text/plain": [
       "HBox(children=(FloatProgress(value=1.0, bar_style='info', max=1.0), HTML(value='')))"
      ]
     },
     "metadata": {},
     "output_type": "display_data"
    },
    {
     "name": "stdout",
     "output_type": "stream",
     "text": [
      "Extracting /root/data/MNIST/raw/train-labels-idx1-ubyte.gz to /root/data/MNIST/raw\n",
      "Downloading http://yann.lecun.com/exdb/mnist/t10k-images-idx3-ubyte.gz to /root/data/MNIST/raw/t10k-images-idx3-ubyte.gz\n"
     ]
    },
    {
     "data": {
      "application/vnd.jupyter.widget-view+json": {
       "model_id": "f550fd9632664711bea9bf9854eac6bf",
       "version_major": 2,
       "version_minor": 0
      },
      "text/plain": [
       "HBox(children=(FloatProgress(value=1.0, bar_style='info', max=1.0), HTML(value='')))"
      ]
     },
     "metadata": {},
     "output_type": "display_data"
    },
    {
     "name": "stdout",
     "output_type": "stream",
     "text": [
      "Extracting /root/data/MNIST/raw/t10k-images-idx3-ubyte.gz to /root/data/MNIST/raw\n",
      "Downloading http://yann.lecun.com/exdb/mnist/t10k-labels-idx1-ubyte.gz to /root/data/MNIST/raw/t10k-labels-idx1-ubyte.gz\n"
     ]
    },
    {
     "data": {
      "application/vnd.jupyter.widget-view+json": {
       "model_id": "71ae475219a147a795cc1202de3c01d2",
       "version_major": 2,
       "version_minor": 0
      },
      "text/plain": [
       "HBox(children=(FloatProgress(value=1.0, bar_style='info', max=1.0), HTML(value='')))"
      ]
     },
     "metadata": {},
     "output_type": "display_data"
    },
    {
     "name": "stdout",
     "output_type": "stream",
     "text": [
      "Extracting /root/data/MNIST/raw/t10k-labels-idx1-ubyte.gz to /root/data/MNIST/raw\n",
      "Processing...\n",
      "Done!\n"
     ]
    }
   ],
   "source": [
    "data_folder = \"~/data\"\n",
    "BATCH_SIZE = 8\n",
    "\n",
    "mnist_data = MNIST(data_folder, train=True, download = True, transform= transforms.ToTensor())\n",
    "\n",
    "data_loader = DataLoader(mnist_data, batch_size=BATCH_SIZE, shuffle=False)\n",
    "\n"
   ]
  },
  {
   "cell_type": "code",
   "execution_count": 9,
   "metadata": {},
   "outputs": [
    {
     "name": "stdout",
     "output_type": "stream",
     "text": [
      "8\n",
      "8\n"
     ]
    }
   ],
   "source": [
    "data_iterator = iter(data_loader)\n",
    "images, labels = data_iterator.next()\n",
    "\n",
    "print(len(images))\n",
    "print(len(labels))\n"
   ]
  },
  {
   "cell_type": "code",
   "execution_count": 11,
   "metadata": {},
   "outputs": [
    {
     "name": "stdout",
     "output_type": "stream",
     "text": [
      "(1, 28, 28)\n"
     ]
    },
    {
     "data": {
      "image/png": "[encoded data removed]",
      "text/plain": [
       "<Figure size 432x288 with 1 Axes>"
      ]
     },
     "metadata": {
      "needs_background": "dark"
     },
     "output_type": "display_data"
    },
    {
     "name": "stdout",
     "output_type": "stream",
     "text": [
      "ラベル： tensor(9)\n"
     ]
    }
   ],
   "source": [
    "location = 4\n",
    "data = images[location].numpy()\n",
    "print(data.shape)\n",
    "\n",
    "reshaped_data = data.reshape(28, 28)\n",
    "plt.imshow(reshaped_data, cmap=\"inferno\", interpolation=\"bicubic\")\n",
    "plt.show()\n",
    "print(\"ラベル：\", labels[location])"
   ]
  },
  {
   "cell_type": "code",
   "execution_count": 14,
   "metadata": {},
   "outputs": [],
   "source": [
    "# 学習データ\n",
    "\n",
    "train_data_with_labels = MNIST(data_folder, train= True, download=True, transform= transforms.ToTensor())\n",
    "\n",
    "train_data_loader = DataLoader(train_data_with_labels, batch_size= BATCH_SIZE, shuffle=True)\n",
    "\n",
    "test_data_with_labels = MNIST(data_folder, train=False, download=True, transform= transforms.ToTensor())\n",
    "\n",
    "test_data_loader = DataLoader(test_data_with_labels, batch_size=BATCH_SIZE, shuffle=True)\n",
    "\n"
   ]
  },
  {
   "cell_type": "code",
   "execution_count": 15,
   "metadata": {},
   "outputs": [],
   "source": [
    "from torch.autograd import Variable\n",
    "import torch.nn as nn\n",
    "\n",
    "class MLP(nn.Module):\n",
    "    def __init__(self):\n",
    "        super().__init__()\n",
    "        self.layer1 = nn.Linear(28 * 28, 100)\n",
    "        \n",
    "        self.layer2 = nn.Linear(100, 50)\n",
    "        \n",
    "        self.layer3 = nn.Linear(50, 10)\n",
    "        \n",
    "    def forward(self, input_data):\n",
    "        input_data = input_data.view(-1, 28*28)\n",
    "        \n",
    "        input_data = self.layer1(input_data)\n",
    "        input_data = self.layer2(input_data)\n",
    "        input_data = self.layer3(input_data)\n",
    "        return input_data\n"
   ]
  },
  {
   "cell_type": "code",
   "execution_count": 16,
   "metadata": {},
   "outputs": [],
   "source": [
    "model = MLP()"
   ]
  },
  {
   "cell_type": "code",
   "execution_count": 18,
   "metadata": {},
   "outputs": [],
   "source": [
    "\n",
    "import torch.optim as optimizer\n",
    "lossResult = nn.CrossEntropyLoss()\n",
    "\n",
    "optimizer = optimizer.SGD(model.parameters(), lr=0.01)\n"
   ]
  },
  {
   "cell_type": "code",
   "execution_count": 22,
   "metadata": {},
   "outputs": [
    {
     "name": "stdout",
     "output_type": "stream",
     "text": [
      "学習進捗:[1, 2000] 学習誤差(loss): 0.846\n",
      "学習進捗:[1, 4000] 学習誤差(loss): 0.378\n",
      "学習進捗:[1, 6000] 学習誤差(loss): 0.348\n",
      "学習進捗:[2, 2000] 学習誤差(loss): 0.321\n",
      "学習進捗:[2, 4000] 学習誤差(loss): 0.314\n",
      "学習進捗:[2, 6000] 学習誤差(loss): 0.300\n",
      "学習進捗:[3, 2000] 学習誤差(loss): 0.288\n",
      "学習進捗:[3, 4000] 学習誤差(loss): 0.308\n",
      "学習進捗:[3, 6000] 学習誤差(loss): 0.299\n",
      "学習進捗:[4, 2000] 学習誤差(loss): 0.286\n",
      "学習進捗:[4, 4000] 学習誤差(loss): 0.286\n",
      "学習進捗:[4, 6000] 学習誤差(loss): 0.291\n",
      "学習終了\n"
     ]
    }
   ],
   "source": [
    "MAX_EPOCH = 4\n",
    "\n",
    "for epoch in range(MAX_EPOCH):\n",
    "    total_loss = 0.0\n",
    "    for i, data in enumerate(train_data_loader):\n",
    "        \n",
    "        train_data, teacher_labels = data\n",
    "        \n",
    "        train_data, teacher_labels = Variable(train_data), Variable(teacher_labels)\n",
    "\n",
    "        optimizer.zero_grad()\n",
    "\n",
    "        outputs = model(train_data)\n",
    "        \n",
    "        loss = lossResult(outputs, teacher_labels)\n",
    "        loss.backward()\n",
    "        \n",
    "#         breakpoint()\n",
    "        \n",
    "        optimizer.step()\n",
    "        \n",
    "        total_loss += loss.data.item()\n",
    "        \n",
    "        if i % 2000 == 1999:\n",
    "            print(\"学習進捗:[%d, %d] 学習誤差(loss): %.3f\" % (epoch+1, i+1, total_loss/ 2000)   )\n",
    "            total_loss = 0.0\n",
    "            \n",
    "print(\"学習終了\")"
   ]
  },
  {
   "cell_type": "code",
   "execution_count": 25,
   "metadata": {},
   "outputs": [
    {
     "name": "stdout",
     "output_type": "stream",
     "text": [
      "count_whern_correct: 9158/10000 = 0.915800 \n",
      "totla:10000\n",
      "正解率:9158 / 10000 = 0.915800\n"
     ]
    }
   ],
   "source": [
    "import torch\n",
    "\n",
    "total = 0\n",
    "\n",
    "count_when_correct = 0\n",
    "\n",
    "for data in test_data_loader:\n",
    "    \n",
    "    test_data, teacher_labels = data\n",
    "    \n",
    "    results = model(Variable(test_data))\n",
    "    \n",
    "    _, predicted = torch.max(results.data, 1)\n",
    "    \n",
    "    total += teacher_labels.size(0)\n",
    "    count_when_correct += (predicted == teacher_labels).sum()\n",
    "    \n",
    "print(\"count_whern_correct: %d/%d = %f \" % (count_when_correct, total, int(count_when_correct)/ int(total)))\n",
    "print(\"totla:%d\" % (total))\n",
    "\n",
    "print(\"正解率:%d / %d = %f\" %(count_when_correct, total, int(count_when_correct)/ int(total)) )\n",
    "\n"
   ]
  },
  {
   "cell_type": "code",
   "execution_count": 32,
   "metadata": {},
   "outputs": [
    {
     "name": "stdout",
     "output_type": "stream",
     "text": [
      "ラベル: tensor(9)\n"
     ]
    },
    {
     "data": {
      "image/png": "[encoded data removed]",
      "text/plain": [
       "<Figure size 432x288 with 1 Axes>"
      ]
     },
     "metadata": {
      "needs_background": "dark"
     },
     "output_type": "display_data"
    }
   ],
   "source": [
    "test_iterator = iter(test_data_loader)\n",
    "\n",
    "test_data, teacher_labels = test_iterator.next()\n",
    "\n",
    "results = model(Variable(test_data))\n",
    "_, predicted_label = torch.max(results.data, 1)\n",
    "\n",
    "location = 1\n",
    "plt.imshow(test_data[location].numpy().reshape(28,28), cmap=\"inferno\", interpolation = \"bicubic\")\n",
    "\n",
    "print(\"ラベル:\", predicted_label[location])\n",
    "\n"
   ]
  },
  {
   "cell_type": "code",
   "execution_count": null,
   "metadata": {},
   "outputs": [],
   "source": []
  },
  {
   "cell_type": "code",
   "execution_count": null,
   "metadata": {},
   "outputs": [],
   "source": []
  }
 ],
 "metadata": {
  "kernelspec": {
   "display_name": "Python 3",
   "language": "python",
   "name": "python3"
  },
  "language_info": {
   "codemirror_mode": {
    "name": "ipython",
    "version": 3
   },
   "file_extension": ".py",
   "mimetype": "text/x-python",
   "name": "python",
   "nbconvert_exporter": "python",
   "pygments_lexer": "ipython3",
   "version": "3.7.6"
  },
  "varInspector": {
   "cols": {
    "lenName": 16,
    "lenType": 16,
    "lenVar": 40
   },
   "kernels_config": {
    "python": {
     "delete_cmd_postfix": "",
     "delete_cmd_prefix": "del ",
     "library": "var_list.py",
     "varRefreshCmd": "print(var_dic_list())"
    },
    "r": {
     "delete_cmd_postfix": ") ",
     "delete_cmd_prefix": "rm(",
     "library": "var_list.r",
     "varRefreshCmd": "cat(var_dic_list()) "
    }
   },
   "types_to_exclude": [
    "module",
    "function",
    "builtin_function_or_method",
    "instance",
    "_Feature"
   ],
   "window_display": false
  }
 },
 "nbformat": 4,
 "nbformat_minor": 4
}
